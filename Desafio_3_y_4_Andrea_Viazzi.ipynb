{
  "nbformat": 4,
  "nbformat_minor": 0,
  "metadata": {
    "colab": {
      "provenance": []
    },
    "kernelspec": {
      "name": "python3",
      "display_name": "Python 3"
    },
    "language_info": {
      "name": "python"
    }
  },
  "cells": [
    {
      "cell_type": "markdown",
      "source": [
        "# Desafíos 3 y 4 - Tipos de datos y operadores\n",
        "## Programación I - 2025\n",
        "**Nombre:** Andrea Viazzi  \n",
        "**Fecha:** 27 de abril de 2025\n"
      ],
      "metadata": {
        "id": "v7CfMtMvOUV3"
      }
    },
    {
      "cell_type": "markdown",
      "source": [
        "## Desafío 3: Convertidor de Temperaturas\n",
        "\n",
        "**¿Qué pide el enunciado?**  \n",
        "Realizar la conversión de una temperatura dada en Celsius a Fahrenheit y Kelvin.\n",
        "\n",
        "**¿Qué tipo de datos y operadores utilicé?**  \n",
        "Usé datos de tipo `float` (número decimal) y operadores matemáticos (`*`, `+`).\n",
        "\n",
        "**¿Qué validaciones implementé o podría haber hecho?**  \n",
        "Podría validarse que la temperatura no sea menor al cero absoluto (-273.15 °C).\n"
      ],
      "metadata": {
        "id": "zls2LX_NcHxx"
      }
    },
    {
      "cell_type": "code",
      "source": [
        "# Convertidor de Temperaturas\n",
        "\n",
        "# Pedir al usuario una temperatura en Celsius\n",
        "celsius = float(input(\"Ingrese la temperatura en grados Celsius: \"))\n",
        "\n",
        "# Convertir a Fahrenheit y Kelvin\n",
        "fahrenheit = (celsius * 9/5) + 32\n",
        "kelvin = celsius + 273.15\n",
        "\n",
        "# Mostrar resultados\n",
        "print(f\"{celsius}°C equivalen a {fahrenheit}°F\")\n",
        "print(f\"{celsius}°C equivalen a {kelvin}K\")\n"
      ],
      "metadata": {
        "colab": {
          "base_uri": "https://localhost:8080/"
        },
        "id": "dQsba0hfdgGQ",
        "outputId": "843adb40-2c57-4ea2-f50c-195fe78188c3"
      },
      "execution_count": null,
      "outputs": [
        {
          "output_type": "stream",
          "name": "stdout",
          "text": [
            "Ingrese la temperatura en grados Celsius: 25\n",
            "25.0°C equivalen a 77.0°F\n",
            "25.0°C equivalen a 298.15K\n"
          ]
        }
      ]
    },
    {
      "cell_type": "markdown",
      "source": [
        "## Desafío 4: Verificar múltiplos de varios números\n",
        "\n",
        "**¿Qué pide el enunciado?**  \n",
        "Verificar si un número dado es múltiplo de 2, 3, 5, 7, 9, 10 y 11.\n",
        "\n",
        "**¿Qué tipo de datos y operadores utilicé?**  \n",
        "Usé números enteros (`int`) y el operador módulo (`%`).\n",
        "\n",
        "**¿Qué validaciones implementé o podría haber hecho?**  \n",
        "Se podría validar que el número ingresado sea efectivamente un número entero, o que no sea negativo si se quisiera limitar.\n",
        "\n"
      ],
      "metadata": {
        "id": "RySFAhPEeyjo"
      }
    },
    {
      "cell_type": "code",
      "source": [
        "# Verificación de múltiplos\n",
        "\n",
        "# Pedir un número al usuario\n",
        "numero = int(input(\"Ingrese un número entero: \"))\n",
        "\n",
        "# Lista de divisores a verificar\n",
        "divisores = [2, 3, 5, 7, 9, 10, 11]\n",
        "\n",
        "# Verificar si el número es múltiplo de cada divisor\n",
        "for divisor in divisores:\n",
        "    if numero % divisor == 0:\n",
        "        print(f\"{numero} es múltiplo de {divisor}\")\n",
        "    else:\n",
        "        print(f\"{numero} NO es múltiplo de {divisor}\")\n"
      ],
      "metadata": {
        "colab": {
          "base_uri": "https://localhost:8080/"
        },
        "id": "zthdOyv2e_FI",
        "outputId": "a13b169e-5946-4f9c-d262-f9884a28ca6a"
      },
      "execution_count": null,
      "outputs": [
        {
          "output_type": "stream",
          "name": "stdout",
          "text": [
            "Ingrese un número entero: 40\n",
            "40 es múltiplo de 2\n",
            "40 NO es múltiplo de 3\n",
            "40 es múltiplo de 5\n",
            "40 NO es múltiplo de 7\n",
            "40 NO es múltiplo de 9\n",
            "40 es múltiplo de 10\n",
            "40 NO es múltiplo de 11\n"
          ]
        }
      ]
    },
    {
      "cell_type": "markdown",
      "source": [
        "## Webgrafía\n",
        "\n",
        - Documentación oficial de Python: [https://docs.python.org/3/](https://docs.python.org/3/),
- Conversión de temperatura Celsius a Fahrenheit y Kelvin: [https://www.calculadoraconversor.com/conversor-de-temperatura/](https://www.calculadoraconversor.com/conversor-de-temperatura/),
- Concepto de múltiplos: [https://es.wikipedia.org/wiki/M%C3%BAltiplo](https://es.wikipedia.org/wiki/M%C3%BAltiplo),
        "\n"
      ],
      "metadata": {
        "id": "rZm9Y498gC7q"
      }
    },
    {
      "cell_type": "code",
      "source": [],
      "metadata": {
        "id": "IAbV0U7ugqcn"
      },
      "execution_count": null,
      "outputs": []
    }
  ]
}
